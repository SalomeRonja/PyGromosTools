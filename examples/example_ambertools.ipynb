{
 "cells": [
  {
   "cell_type": "code",
   "execution_count": 1,
   "metadata": {},
   "outputs": [],
   "source": [
    "from pygromos.files.gromos_system.ff import forcefield_system\n",
    "from pygromos.files.gromos_system import gromos_system\n",
    "from pygromos.files.gromos_system.ff.ambertools_pipeline import ambertools_pipeline\n",
    "from pygromos.gromos.gromosPP import _gromosPPbase"
   ]
  },
  {
   "cell_type": "code",
   "execution_count": 2,
   "metadata": {},
   "outputs": [],
   "source": [
    "# note: ambertools is required. you can install it eg with: conda install -c conda-forge ambertools\n",
    "ff = forcefield_system.forcefield_system(name = \"amberff_gaff\")"
   ]
  },
  {
   "cell_type": "code",
   "execution_count": 3,
   "metadata": {},
   "outputs": [],
   "source": [
    "molecule = \"example_files/ambertools_pipeline/aniline.mol2\""
   ]
  },
  {
   "cell_type": "code",
   "execution_count": 4,
   "metadata": {},
   "outputs": [],
   "source": [
    "gromosPP_bin_dir = \"~/PhD/build/gromos++/bin/\" #ADAPT HERE"
   ]
  },
  {
   "cell_type": "markdown",
   "metadata": {},
   "source": [
    "# create top + cnf for aniline"
   ]
  },
  {
   "cell_type": "code",
   "execution_count": 5,
   "metadata": {},
   "outputs": [
    {
     "name": "stdout",
     "output_type": "stream",
     "text": [
      "\n",
      "\n",
      "==================\n",
      "\tCHECK dependencies\n",
      "\n",
      "Check example_files/ambertools_pipeline\n",
      "example_files/ambertools_pipeline\n",
      "All dependencies are correct! \n",
      "\n",
      "\n",
      "Generate Empty:  imd\n",
      "Generate Empty:  top\n",
      "Generate Empty:  cnf\n",
      "['/home/salome/pymol/envs/pygromos/bin/antechamber', '-i', '/home/salome/PhD/PyGromosTools/examples/example_files/ambertools_pipeline/aniline.mol2', '-fi', 'mol2', '-o', 'aniline.mol2', '-fo', 'mol2', '-s', '2', '-c', 'bcc', '-nc', '0']\n",
      "['/home/salome/pymol/envs/pygromos/bin/parmchk2', '-i', '/home/salome/PhD/PyGromosTools/examples/example_files/ambertools_pipeline/antechamber_tmp/aniline.mol2', '-f', 'mol2', '-o', 'aniline.frcmod']\n",
      "['/home/salome/pymol/envs/pygromos/bin/tleap', '-f', 'aniline.cmd']\n",
      "converted topology saved to /home/salome/PhD/PyGromosTools/examples/example_files/ambertools_pipeline/aniline.top\n",
      "converted coordinates saved to /home/salome/PhD/PyGromosTools/examples/example_files/ambertools_pipeline/aniline.cnf\n",
      "/home/salome/PhD/PyGromosTools/examples/example_files/ambertools_pipeline/aniline.cnf\n"
     ]
    }
   ],
   "source": [
    "system = gromos_system.Gromos_System(work_folder = \"example_files/ambertools_pipeline\",\n",
    "                                     system_name = \"aniline\",\n",
    "                                     Forcefield = ff,\n",
    "                                     auto_convert = True,\n",
    "                                     in_mol2_file = molecule,\n",
    "                                     in_gromosPP_bin_dir = gromosPP_bin_dir)"
   ]
  },
  {
   "cell_type": "markdown",
   "metadata": {},
   "source": [
    "# create top + cnf for aniline, solvated in CHCl3"
   ]
  },
  {
   "cell_type": "code",
   "execution_count": 6,
   "metadata": {},
   "outputs": [],
   "source": [
    "ambertools_pipeline.solvate = True\n",
    "ambertools_pipeline.solventbox = \"CHCL3BOX\""
   ]
  },
  {
   "cell_type": "code",
   "execution_count": 7,
   "metadata": {},
   "outputs": [
    {
     "name": "stdout",
     "output_type": "stream",
     "text": [
      "\n",
      "\n",
      "==================\n",
      "\tCHECK dependencies\n",
      "\n",
      "Check example_files/ambertools_pipeline\n",
      "example_files/ambertools_pipeline\n",
      "All dependencies are correct! \n",
      "\n",
      "\n",
      "Generate Empty:  imd\n",
      "Generate Empty:  top\n",
      "Generate Empty:  cnf\n",
      "['/home/salome/pymol/envs/pygromos/bin/antechamber', '-i', '/home/salome/PhD/PyGromosTools/examples/example_files/ambertools_pipeline/aniline.mol2', '-fi', 'mol2', '-o', 'aniline.mol2', '-fo', 'mol2', '-s', '2', '-c', 'bcc', '-nc', '0']\n",
      "['/home/salome/pymol/envs/pygromos/bin/parmchk2', '-i', '/home/salome/PhD/PyGromosTools/examples/example_files/ambertools_pipeline/antechamber_tmp/aniline.mol2', '-f', 'mol2', '-o', 'aniline.frcmod']\n",
      "['/home/salome/pymol/envs/pygromos/bin/tleap', '-f', 'aniline.cmd']\n",
      "converted topology saved to /home/salome/PhD/PyGromosTools/examples/example_files/ambertools_pipeline/aniline_CHCL3BOX.top\n",
      "converted coordinates saved to /home/salome/PhD/PyGromosTools/examples/example_files/ambertools_pipeline/aniline_CHCL3BOX.cnf\n",
      "/home/salome/PhD/PyGromosTools/examples/example_files/ambertools_pipeline/aniline_CHCL3BOX.cnf\n"
     ]
    }
   ],
   "source": [
    "system = gromos_system.Gromos_System(work_folder = \"example_files/ambertools_pipeline\",\n",
    "                                     system_name = \"aniline\",\n",
    "                                     Forcefield = ff,\n",
    "                                     auto_convert = True,\n",
    "                                     in_mol2_file = molecule,\n",
    "                                     in_gromosPP_bin_dir = gromosPP_bin_dir)"
   ]
  },
  {
   "cell_type": "markdown",
   "metadata": {},
   "source": [
    "# create top + cnf for aniline, solvated in TIP3P water"
   ]
  },
  {
   "cell_type": "code",
   "execution_count": 8,
   "metadata": {},
   "outputs": [],
   "source": [
    "ambertools_pipeline.solventbox = \"TIP3PBOX\""
   ]
  },
  {
   "cell_type": "code",
   "execution_count": 9,
   "metadata": {},
   "outputs": [
    {
     "name": "stdout",
     "output_type": "stream",
     "text": [
      "\n",
      "\n",
      "==================\n",
      "\tCHECK dependencies\n",
      "\n",
      "Check example_files/ambertools_pipeline\n",
      "example_files/ambertools_pipeline\n",
      "All dependencies are correct! \n",
      "\n",
      "\n",
      "Generate Empty:  imd\n",
      "Generate Empty:  top\n",
      "Generate Empty:  cnf\n",
      "['/home/salome/pymol/envs/pygromos/bin/antechamber', '-i', '/home/salome/PhD/PyGromosTools/examples/example_files/ambertools_pipeline/aniline.mol2', '-fi', 'mol2', '-o', 'aniline.mol2', '-fo', 'mol2', '-s', '2', '-c', 'bcc', '-nc', '0']\n",
      "['/home/salome/pymol/envs/pygromos/bin/parmchk2', '-i', '/home/salome/PhD/PyGromosTools/examples/example_files/ambertools_pipeline/antechamber_tmp/aniline.mol2', '-f', 'mol2', '-o', 'aniline.frcmod']\n",
      "['/home/salome/pymol/envs/pygromos/bin/tleap', '-f', 'aniline.cmd']\n",
      "converted topology saved to /home/salome/PhD/PyGromosTools/examples/example_files/ambertools_pipeline/aniline_TIP3PBOX.top\n",
      "converted coordinates saved to /home/salome/PhD/PyGromosTools/examples/example_files/ambertools_pipeline/aniline_TIP3PBOX.cnf\n",
      "/home/salome/PhD/PyGromosTools/examples/example_files/ambertools_pipeline/aniline_TIP3PBOX.cnf\n"
     ]
    }
   ],
   "source": [
    "system = gromos_system.Gromos_System(work_folder = \"example_files/ambertools_pipeline\",\n",
    "                                     system_name = \"aniline\",\n",
    "                                     Forcefield = ff,\n",
    "                                     auto_convert = True,\n",
    "                                     in_mol2_file = molecule,\n",
    "                                     in_gromosPP_bin_dir = gromosPP_bin_dir)"
   ]
  },
  {
   "cell_type": "code",
   "execution_count": null,
   "metadata": {},
   "outputs": [],
   "source": []
  }
 ],
 "metadata": {
  "kernelspec": {
   "display_name": "pygromos",
   "language": "python",
   "name": "pygromos"
  },
  "language_info": {
   "codemirror_mode": {
    "name": "ipython",
    "version": 3
   },
   "file_extension": ".py",
   "mimetype": "text/x-python",
   "name": "python",
   "nbconvert_exporter": "python",
   "pygments_lexer": "ipython3",
   "version": "3.7.11"
  }
 },
 "nbformat": 4,
 "nbformat_minor": 4
}
